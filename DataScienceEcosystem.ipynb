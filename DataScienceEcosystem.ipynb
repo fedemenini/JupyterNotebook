{
 "cells": [
  {
   "cell_type": "markdown",
   "id": "41d86ae9-4a69-4193-9cb7-7d4c688a8268",
   "metadata": {},
   "source": [
    "<h1> Data Science Tools and Ecosystem </h1>"
   ]
  },
  {
   "cell_type": "markdown",
   "id": "a3f74f5a-8e8c-4a0a-939a-0e3452f3d773",
   "metadata": {},
   "source": [
    "In this notebook, Data Science Tools and Ecosystem are summarized."
   ]
  },
  {
   "cell_type": "markdown",
   "id": "ab19644e-78a4-44d8-b633-ddfe127cc873",
   "metadata": {},
   "source": [
    "__Objectives__: \n",
    "    -List popular languages for Data Science\n",
    "    -List popular libraries for Data Science\n",
    "    -Arithmetic expressions in Python\n",
    "    -Version control (GitHub)"
   ]
  },
  {
   "cell_type": "markdown",
   "id": "33ac5da4-e446-4485-b543-239237d1e3ff",
   "metadata": {},
   "source": [
    "Some of the popular languages that Data Scientists use are:\n",
    "    1.Python\n",
    "    2.R\n",
    "    3.SQL"
   ]
  },
  {
   "cell_type": "markdown",
   "id": "fd0e7530-8874-47ae-ad6f-418439fbf5f7",
   "metadata": {},
   "source": [
    "Some of the commonly used libraries used by Data Scientists include:\n",
    "    1.Pandas: Offers data structures and tools for effective data cleaning, manipulation and analysis.\n",
    "    2.NumPy: Are based on arrays and matrices, allowing the user to apply mathematical functions to the arrays.\n",
    "    3.Matplotlib: This is the most popular library for data visualization. Allows the user to create multiple types of graphs that are easily customizable. \n",
    "    4.Seaborn - Based on Matplotlib, allows the generation of heat maps, time series and violin plots. |"
   ]
  },
  {
   "cell_type": "markdown",
   "id": "87f24694-b061-423f-b0d7-1ba93ca7f20b",
   "metadata": {},
   "source": [
    "<h3>Below are a few examples of evaluating arithmetic expressions in Python</h3>"
   ]
  },
  {
   "cell_type": "markdown",
   "id": "52c1254d-aada-498c-b2be-d4705e40a10f",
   "metadata": {},
   "source": [
    "This is a simple arithmetic expression to multiply then add integers"
   ]
  },
  {
   "cell_type": "code",
   "execution_count": null,
   "id": "abf79aa1-5918-48c8-a2de-177d2a7429d4",
   "metadata": {
    "tags": []
   },
   "outputs": [
    {
     "data": {
      "text/plain": [
       "17"
      ]
     },
     "execution_count": 3,
     "metadata": {},
     "output_type": "execute_result"
    }
   ],
   "source": [
    "(3*4)+5"
   ]
  },
  {
   "cell_type": "markdown",
   "id": "f95f0db0-50ad-42a2-9d48-60ed643d015d",
   "metadata": {
    "tags": []
   },
   "source": [
    "This will convert 200 minutes to hours by dividing by 60"
   ]
  },
  {
   "cell_type": "code",
   "execution_count": 4,
   "id": "4361e96e-0f93-4389-b530-75709a2732f4",
   "metadata": {
    "tags": []
   },
   "outputs": [
    {
     "name": "stdout",
     "output_type": "stream",
     "text": [
      "3.3333333333333335\n"
     ]
    }
   ],
   "source": [
    "print(200 / 60)"
   ]
  },
  {
   "cell_type": "markdown",
   "id": "cd652f58-49ec-4ba3-b1f2-520402524d98",
   "metadata": {},
   "source": [
    "To clarify the above result, 200 minutes equals to 3 hours and approximately 20 minutes."
   ]
  },
  {
   "cell_type": "markdown",
   "id": "e462fb84-a92a-44c0-999a-a70fbd5ad43b",
   "metadata": {},
   "source": [
    "<h2>Author</h2>\n",
    "Federico Menini"
   ]
  }
 ],
 "metadata": {
  "kernelspec": {
   "display_name": "Python",
   "language": "python",
   "name": "conda-env-python-py"
  },
  "language_info": {
   "codemirror_mode": {
    "name": "ipython",
    "version": 3
   },
   "file_extension": ".py",
   "mimetype": "text/x-python",
   "name": "python",
   "nbconvert_exporter": "python",
   "pygments_lexer": "ipython3",
   "version": "3.7.12"
  }
 },
 "nbformat": 4,
 "nbformat_minor": 5
}
